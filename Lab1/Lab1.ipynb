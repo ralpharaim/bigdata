{
 "cells": [
  {
   "cell_type": "code",
   "execution_count": 1,
   "id": "8a0e29c3",
   "metadata": {},
   "outputs": [
    {
     "name": "stderr",
     "output_type": "stream",
     "text": [
      "/usr/local/lib/python3.6/dist-packages/pyspark/context.py:238: FutureWarning: Python 3.6 support is deprecated in Spark 3.2.\n",
      "  FutureWarning\n"
     ]
    },
    {
     "data": {
      "text/html": [
       "\n",
       "        <div>\n",
       "            <p><b>SparkContext</b></p>\n",
       "\n",
       "            <p><a href=\"http://maprdemo.mapr.io:4041\">Spark UI</a></p>\n",
       "\n",
       "            <dl>\n",
       "              <dt>Version</dt>\n",
       "                <dd><code>v3.2.2</code></dd>\n",
       "              <dt>Master</dt>\n",
       "                <dd><code>local[1]</code></dd>\n",
       "              <dt>AppName</dt>\n",
       "                <dd><code>Lab1</code></dd>\n",
       "            </dl>\n",
       "        </div>\n",
       "        "
      ],
      "text/plain": [
       "<SparkContext master=local[1] appName=Lab1>"
      ]
     },
     "execution_count": 1,
     "metadata": {},
     "output_type": "execute_result"
    }
   ],
   "source": [
    "from pyspark import SparkContext, SparkConf\n",
    "app_name = \"Lab1\"\n",
    "conf = SparkConf().setAppName(app_name).setMaster('local[1]')\n",
    "sc = SparkContext(conf=conf)\n",
    "sc"
   ]
  },
  {
   "cell_type": "code",
   "execution_count": 2,
   "id": "44bc5d05",
   "metadata": {
    "scrolled": true
   },
   "outputs": [
    {
     "name": "stdout",
     "output_type": "stream",
     "text": [
      "put: `/data/data/list_of_countries_sorted_gini.txt': File exists\n",
      "put: `/data/data/nycTaxiFares.gz': File exists\n",
      "put: `/data/data/nycTaxiRides.csv': File exists\n",
      "put: `/data/data/nyctaxi.gz': File exists\n",
      "put: `/data/data/posts_sample.xml': File exists\n",
      "put: `/data/data/programming-languages.csv': File exists\n",
      "put: `/data/data/stations.csv': File exists\n",
      "put: `/data/data/trips.csv': File exists\n",
      "put: `/data/data/warandsociety.txt': File exists\n"
     ]
    }
   ],
   "source": [
    "!hadoop fs -put /mnt/data /data"
   ]
  },
  {
   "cell_type": "code",
   "execution_count": 3,
   "id": "3ebdcbd8",
   "metadata": {
    "scrolled": true
   },
   "outputs": [
    {
     "name": "stdout",
     "output_type": "stream",
     "text": [
      "Found 10 items\r\n",
      "drwxr-xr-x   - root root          9 2022-11-24 08:49 /data/data\r\n",
      "-rwxr-xr-x   3 root root        394 2022-11-24 07:50 /data/list_of_countries_sorted_gini.txt\r\n",
      "-rwxr-xr-x   3 root root   19459967 2022-11-24 07:50 /data/nycTaxiFares.gz\r\n",
      "-rwxr-xr-x   3 root root   84135506 2022-11-24 07:50 /data/nycTaxiRides.csv\r\n",
      "-rwxr-xr-x   3 root root   79500408 2022-11-24 07:50 /data/nyctaxi.gz\r\n",
      "-rwxr-xr-x   3 root root   74162295 2022-11-24 07:50 /data/posts_sample.xml\r\n",
      "-rwxr-xr-x   3 root root      40269 2022-11-24 07:50 /data/programming-languages.csv\r\n",
      "-rwxr-xr-x   3 root root       5647 2022-11-24 07:50 /data/stations.csv\r\n",
      "-rwxr-xr-x   3 root root   80208831 2022-11-24 07:50 /data/trips.csv\r\n",
      "-rwxr-xr-x   3 root root    5315699 2022-11-24 07:50 /data/warandsociety.txt\r\n"
     ]
    }
   ],
   "source": [
    "!hadoop fs -ls /data"
   ]
  },
  {
   "cell_type": "markdown",
   "id": "45c60439",
   "metadata": {},
   "source": [
    "### Tecты"
   ]
  },
  {
   "cell_type": "code",
   "execution_count": 4,
   "id": "6146cfec",
   "metadata": {},
   "outputs": [
    {
     "data": {
      "text/plain": [
       "12851"
      ]
     },
     "execution_count": 4,
     "metadata": {},
     "output_type": "execute_result"
    }
   ],
   "source": [
    "warandpeace = sc.textFile(\"/mnt/data/warandsociety.txt\")\n",
    "warandpeace.count()"
   ]
  },
  {
   "cell_type": "code",
   "execution_count": 5,
   "id": "10dec428",
   "metadata": {},
   "outputs": [],
   "source": [
    "nilFile = sc.textFile(\"nil\")\n",
    "#nilFile.count()"
   ]
  },
  {
   "cell_type": "code",
   "execution_count": 6,
   "id": "da804555",
   "metadata": {
    "scrolled": true
   },
   "outputs": [
    {
     "data": {
      "text/plain": [
       "['Лев Николаевич Толстой',\n",
       " 'Война и мир. Книга 1',\n",
       " '',\n",
       " 'Война и мир – 1',\n",
       " '',\n",
       " ' ',\n",
       " ' http://www.lib.ru',\n",
       " '',\n",
       " 'Аннотация ',\n",
       " '']"
      ]
     },
     "execution_count": 6,
     "metadata": {},
     "output_type": "execute_result"
    }
   ],
   "source": [
    "warandpeace.take(10)"
   ]
  },
  {
   "cell_type": "code",
   "execution_count": 7,
   "id": "0fa4de07",
   "metadata": {},
   "outputs": [
    {
     "data": {
      "text/plain": [
       "\"– Еh bien, mon prince. Genes et Lucques ne sont plus que des apanages, des поместья, de la famille Buonaparte. Non, je vous previens, que si vous ne me dites pas, que nous avons la guerre, si vous vous permettez encore de pallier toutes les infamies, toutes les atrocites de cet Antichrist (ma parole, j'y crois) – je ne vous connais plus, vous n'etes plus mon ami, vous n'etes plus мой верный раб, comme vous dites. [Ну, что, князь, Генуа и Лукка стали не больше, как поместьями фамилии Бонапарте. Нет, я вас предупреждаю, если вы мне не скажете, что у нас война, если вы еще позволите себе защищать все гадости, все ужасы этого Антихриста (право, я верю, что он Антихрист) – я вас больше не знаю, вы уж не друг мой, вы уж не мой верный раб, как вы говорите.] Ну, здравствуйте, здравствуйте. Je vois que je vous fais peur, [Я вижу, что я вас пугаю,] садитесь и рассказывайте.\""
      ]
     },
     "execution_count": 7,
     "metadata": {},
     "output_type": "execute_result"
    }
   ],
   "source": [
    "linesWithWar = warandpeace.filter(lambda x: \"война\" in x)\n",
    "linesWithWar.first()"
   ]
  },
  {
   "cell_type": "code",
   "execution_count": 8,
   "id": "ad4c8fc0",
   "metadata": {},
   "outputs": [],
   "source": [
    "def time(f):    \n",
    "    import time\n",
    "    t = time.process_time()\n",
    "    f()\n",
    "    print(f\"Elapsed time: {int((time.process_time() - t)*1e9)} ns\")"
   ]
  },
  {
   "cell_type": "code",
   "execution_count": 9,
   "id": "93fbf2b3",
   "metadata": {},
   "outputs": [
    {
     "name": "stdout",
     "output_type": "stream",
     "text": [
      "Elapsed time: 7341299 ns\n",
      "Elapsed time: 8289400 ns\n"
     ]
    }
   ],
   "source": [
    "linesWithWar.cache()\n",
    "time(lambda: linesWithWar.count() )\n",
    "time(lambda: linesWithWar.count() )"
   ]
  },
  {
   "cell_type": "code",
   "execution_count": 10,
   "id": "ed17d7c2",
   "metadata": {},
   "outputs": [],
   "source": [
    "wordCounts = linesWithWar.flatMap(lambda line: line.split(\" \")).map(lambda word: (word, 1)).reduceByKey(lambda a, b: a + b)"
   ]
  },
  {
   "cell_type": "code",
   "execution_count": 11,
   "id": "be7b16c6",
   "metadata": {
    "scrolled": true
   },
   "outputs": [
    {
     "data": {
      "text/plain": [
       "[('и', 250), ('что', 152), ('не', 117), ('в', 108), ('–', 92)]"
      ]
     },
     "execution_count": 11,
     "metadata": {},
     "output_type": "execute_result"
    }
   ],
   "source": [
    "wordCounts.top(5, lambda x: x[1])"
   ]
  },
  {
   "cell_type": "markdown",
   "id": "d82e52cb",
   "metadata": {},
   "source": [
    "### Подготовка данных для заданий"
   ]
  },
  {
   "cell_type": "code",
   "execution_count": 12,
   "id": "951effa1",
   "metadata": {},
   "outputs": [],
   "source": [
    "from typing import NamedTuple\n",
    "from datetime import datetime\n",
    "\n",
    "def InitStation(stations):\n",
    "    class Station(NamedTuple):\n",
    "        station_id: int\n",
    "        name: str\n",
    "        lat: float\n",
    "        long: float\n",
    "        dockcount: int\n",
    "        landmark: str\n",
    "        installation: str\n",
    "    \n",
    "    for station in stations:\n",
    "        yield Station(\n",
    "            station_id = int(station[0]),\n",
    "            name = station[1],\n",
    "            lat = float(station[2]),\n",
    "            long = float(station[3]),\n",
    "            dockcount = int(station[4]),\n",
    "            landmark = station[5],\n",
    "            installation = datetime.strptime(station[6], '%m/%d/%Y')\n",
    "        )\n",
    "        \n",
    "def InitTrip(trips):\n",
    "    class Trip(NamedTuple):\n",
    "        trip_id: int\n",
    "        duration: int\n",
    "        start_date: datetime\n",
    "        start_station_name: str\n",
    "        start_station_id: int\n",
    "        end_date: datetime\n",
    "        end_station_name: str\n",
    "        end_station_id: int\n",
    "        bike_id: int\n",
    "        subscription_type: str\n",
    "        zip_code: str\n",
    "        \n",
    "    for trip in trips:\n",
    "        yield Trip(                             \n",
    "            trip_id = int(trip[0]),\n",
    "            duration = int(trip[1]) if trip[1] != '' else 0,\n",
    "            start_date = datetime.strptime(trip[2], '%m/%d/%Y %H:%M') if trip[2] != '' else None,\n",
    "            start_station_name = trip[3],\n",
    "            start_station_id = int(trip[4]),\n",
    "            end_date = datetime.strptime(trip[5], '%m/%d/%Y %H:%M') if trip[5] != '' else None,\n",
    "            end_station_name = trip[6],\n",
    "            end_station_id = int(trip[7]),\n",
    "            bike_id = int(trip[8]),\n",
    "            subscription_type = trip[9],\n",
    "            zip_code = trip[10]\n",
    "        )"
   ]
  },
  {
   "cell_type": "code",
   "execution_count": 13,
   "id": "3389ecbc",
   "metadata": {},
   "outputs": [],
   "source": [
    "def SplitNameColumnsAndData(data):\n",
    "    columns = data.first()\n",
    "    table = data.filter(lambda row: row != columns).map(lambda row: row.split(\",\"))\n",
    "    return columns, table"
   ]
  },
  {
   "cell_type": "code",
   "execution_count": 14,
   "id": "b7ffe5f4",
   "metadata": {},
   "outputs": [
    {
     "data": {
      "text/plain": [
       "['id,name,lat,long,dock_count,city,installation_date',\n",
       " '2,San Jose Diridon Caltrain Station,37.329732,-121.90178200000001,27,San Jose,8/6/2013']"
      ]
     },
     "execution_count": 14,
     "metadata": {},
     "output_type": "execute_result"
    }
   ],
   "source": [
    "trip_data = sc.textFile(\"/mnt/data/trips.csv\")\n",
    "station_data = sc.textFile(\"/mnt/data/stations.csv\")\n",
    "station_data.take(2)"
   ]
  },
  {
   "cell_type": "code",
   "execution_count": 15,
   "id": "512aae45",
   "metadata": {},
   "outputs": [
    {
     "data": {
      "text/plain": [
       "['2',\n",
       " 'San Jose Diridon Caltrain Station',\n",
       " '37.329732',\n",
       " '-121.90178200000001',\n",
       " '27',\n",
       " 'San Jose',\n",
       " '8/6/2013']"
      ]
     },
     "execution_count": 15,
     "metadata": {},
     "output_type": "execute_result"
    }
   ],
   "source": [
    "trip_columns, trips = SplitNameColumnsAndData(trip_data)\n",
    "station_columns, stations = SplitNameColumnsAndData(station_data)\n",
    "stations.first()"
   ]
  },
  {
   "cell_type": "code",
   "execution_count": 16,
   "id": "a677875d",
   "metadata": {},
   "outputs": [
    {
     "name": "stdout",
     "output_type": "stream",
     "text": [
      "id,name,lat,long,dock_count,city,installation_date\r\n",
      "2,San Jose Diridon Caltrain Station,37.329732,-121.90178200000001,27,San Jose,8/6/2013\r\n",
      "3,San Jose Civic Center,37.330698,-121.888979,15,San Jose,8/5/2013\r\n",
      "4,Santa Clara at Almaden,37.333988,-121.894902,11,San Jose,8/6/2013\r\n",
      "5,Adobe on Almaden,37.331415,-121.8932,19,San Jose,8/5/2013\r\n",
      "6,San Pedro Square,37.336721000000004,-121.894074,15,San Jose,8/7/2013\r\n",
      "7,Paseo de San Antonio,37.333798,-121.88694299999999,15,San Jose,8/7/2013\r\n",
      "8,San Salvador at 1st,37.330165,-121.88583100000001,15,San Jose,8/5/2013\r\n",
      "9,Japantown,37.348742,-121.89471499999999,15,San Jose,8/5/2013\r\n",
      "10,San Jose City Hall,37.337391,-121.886995,15,San Jose,8/6/2013\r\n"
     ]
    }
   ],
   "source": [
    "!head /mnt/data/stations.csv"
   ]
  },
  {
   "cell_type": "code",
   "execution_count": 17,
   "id": "19466c1b",
   "metadata": {},
   "outputs": [
    {
     "data": {
      "text/plain": [
       "('id,duration,start_date,start_station_name,start_station_id,end_date,end_station_name,end_station_id,bike_id,subscription_type,zip_code',\n",
       " [['4576',\n",
       "   '63',\n",
       "   '',\n",
       "   'South Van Ness at Market',\n",
       "   '66',\n",
       "   '8/29/2013 14:14',\n",
       "   'South Van Ness at Market',\n",
       "   '66',\n",
       "   '520',\n",
       "   'Subscriber',\n",
       "   '94127']])"
      ]
     },
     "execution_count": 17,
     "metadata": {},
     "output_type": "execute_result"
    }
   ],
   "source": [
    "trip_columns, trips.take(1)"
   ]
  },
  {
   "cell_type": "code",
   "execution_count": 18,
   "id": "e099bd29",
   "metadata": {
    "scrolled": true
   },
   "outputs": [
    {
     "data": {
      "text/plain": [
       "('id,name,lat,long,dock_count,city,installation_date',\n",
       " [['2',\n",
       "   'San Jose Diridon Caltrain Station',\n",
       "   '37.329732',\n",
       "   '-121.90178200000001',\n",
       "   '27',\n",
       "   'San Jose',\n",
       "   '8/6/2013']])"
      ]
     },
     "execution_count": 18,
     "metadata": {},
     "output_type": "execute_result"
    }
   ],
   "source": [
    "station_columns, stations.take(1)"
   ]
  },
  {
   "cell_type": "code",
   "execution_count": 19,
   "id": "bcdd3324",
   "metadata": {},
   "outputs": [
    {
     "data": {
      "text/plain": [
       "[Trip(trip_id=4576, duration=63, start_date=None, start_station_name='South Van Ness at Market', start_station_id=66, end_date=datetime.datetime(2013, 8, 29, 14, 14), end_station_name='South Van Ness at Market', end_station_id=66, bike_id=520, subscription_type='Subscriber', zip_code='94127')]"
      ]
     },
     "execution_count": 19,
     "metadata": {},
     "output_type": "execute_result"
    }
   ],
   "source": [
    "trips_objects = trips.mapPartitions(InitTrip)\n",
    "trips_objects.take(1)"
   ]
  },
  {
   "cell_type": "code",
   "execution_count": 31,
   "id": "6e69cff6",
   "metadata": {},
   "outputs": [
    {
     "data": {
      "text/plain": [
       "[Station(station_id=2, name='San Jose Diridon Caltrain Station', lat=37.329732, long=-121.90178200000001, dockcount=27, landmark='San Jose', installation=datetime.datetime(2013, 8, 6, 0, 0))]"
      ]
     },
     "execution_count": 31,
     "metadata": {},
     "output_type": "execute_result"
    }
   ],
   "source": [
    "station_objects  = stations.mapPartitions(InitStation)\n",
    "station_objects.take(1)"
   ]
  },
  {
   "cell_type": "markdown",
   "id": "74777f4c",
   "metadata": {},
   "source": [
    "# 1 Найти велосипед с максимальным временем пробега."
   ]
  },
  {
   "cell_type": "code",
   "execution_count": 32,
   "id": "105812a8",
   "metadata": {},
   "outputs": [
    {
     "data": {
      "text/plain": [
       "(520,\n",
       " Trip(trip_id=4576, duration=63, start_date=None, start_station_name='South Van Ness at Market', start_station_id=66, end_date=datetime.datetime(2013, 8, 29, 14, 14), end_station_name='South Van Ness at Market', end_station_id=66, bike_id=520, subscription_type='Subscriber', zip_code='94127'))"
      ]
     },
     "execution_count": 32,
     "metadata": {},
     "output_type": "execute_result"
    }
   ],
   "source": [
    "# Выделим как ключ id велосипеда\n",
    "trips_by_bike = trips_objects.keyBy(lambda trip: trip.bike_id)\n",
    "trips_by_bike.first()"
   ]
  },
  {
   "cell_type": "code",
   "execution_count": 33,
   "id": "4fe36126",
   "metadata": {},
   "outputs": [
    {
     "data": {
      "text/plain": [
       "[(520, 63), (661, 0), (48, 71), (26, 77), (319, 83)]"
      ]
     },
     "execution_count": 33,
     "metadata": {},
     "output_type": "execute_result"
    }
   ],
   "source": [
    "#Оставим только пробег\n",
    "query = trips_by_bike.mapValues(lambda trip: trip.duration)\n",
    "query.take(5)"
   ]
  },
  {
   "cell_type": "code",
   "execution_count": 34,
   "id": "1e8b881e",
   "metadata": {},
   "outputs": [],
   "source": [
    "# Получим общий пробег для каждого велосипеда\n",
    "query = query.reduceByKey(lambda a, b: a + b)"
   ]
  },
  {
   "cell_type": "code",
   "execution_count": 35,
   "id": "981cce26",
   "metadata": {
    "scrolled": true
   },
   "outputs": [
    {
     "data": {
      "text/plain": [
       "535"
      ]
     },
     "execution_count": 35,
     "metadata": {},
     "output_type": "execute_result"
    }
   ],
   "source": [
    "# Выведем велосипед с максимальным временем пробега\n",
    "id_bike_w_max_dur = query.top(1, key = lambda x: x[1])[0][0]\n",
    "id_bike_w_max_dur"
   ]
  },
  {
   "cell_type": "markdown",
   "id": "f8fc5a8d",
   "metadata": {},
   "source": [
    "# 2 Найти наибольшее геодезическое расстояние между станциями."
   ]
  },
  {
   "cell_type": "code",
   "execution_count": 46,
   "id": "71855fc4",
   "metadata": {},
   "outputs": [],
   "source": [
    "import math\n",
    "def DegreesToRadians(degrees):\n",
    "    return degrees*math.pi/180\n",
    "\n",
    "def DistInKmBetweenEarthCoord(lat1, lon1, lat2, lon2):\n",
    "    earth_radius_km = 6371\n",
    "\n",
    "    dLat = DegreesToRadians(lat2-lat1)\n",
    "    dLon = DegreesToRadians(lon2-lon1)\n",
    "\n",
    "    lat1 = DegreesToRadians(lat1)\n",
    "    lat2 = DegreesToRadians(lat2)\n",
    "\n",
    "    a = math.sin(dLat/2) * math.sin(dLat/2) + math.sin(dLon/2) * math.sin(dLon/2) * math.cos(lat1) * math.cos(lat2)\n",
    "    c = 2 * math.atan2(math.sqrt(a), math.sqrt(1-a))\n",
    "    return earth_radius_km * c"
   ]
  },
  {
   "cell_type": "code",
   "execution_count": 47,
   "id": "1b212027",
   "metadata": {},
   "outputs": [
    {
     "data": {
      "text/plain": [
       "[(1, (2, 37.329732, -121.90178200000001)), (1, (3, 37.330698, -121.888979))]"
      ]
     },
     "execution_count": 47,
     "metadata": {},
     "output_type": "execute_result"
    }
   ],
   "source": [
    "# Сформируем пары ключ значение, где ключ = 1, значение - пара из id, lat, lon\n",
    "all_id = station_objects.map(lambda x: (1, (x.station_id, x.lat, x.long)))\n",
    "all_id.take(2)"
   ]
  },
  {
   "cell_type": "code",
   "execution_count": 48,
   "id": "e2b2f7e7",
   "metadata": {},
   "outputs": [],
   "source": [
    "greatest_dist = all_id.join(all_id).map(lambda x: x[1]).filter(lambda x: x[0][0]<x[1][0])\\\n",
    "                .map(lambda x: ((x[0][0], x[1][0]),DistInKmBetweenEarthCoord(x[0][1], x[0][2], x[1][1], x[1][2],)))"
   ]
  },
  {
   "cell_type": "code",
   "execution_count": 54,
   "id": "226434e8",
   "metadata": {},
   "outputs": [
    {
     "name": "stdout",
     "output_type": "stream",
     "text": [
      "Наибольшее расстояние: 69.92 км\n"
     ]
    }
   ],
   "source": [
    "print(\"Наибольшее расстояние: %.2f км\" %greatest_dist.top(1, lambda x: x[1])[0][1])"
   ]
  },
  {
   "cell_type": "markdown",
   "id": "0360e133",
   "metadata": {},
   "source": [
    "# 3 Найти путь велосипеда с максимальным временем пробега через станции."
   ]
  },
  {
   "cell_type": "code",
   "execution_count": 55,
   "id": "d061bdab",
   "metadata": {},
   "outputs": [],
   "source": [
    "# Берём все строки с уже найденным велосипедом, сортируем по времени начала, оставляем начальную и конечную станцию\n",
    "query = trips_objects.filter(lambda trip: trip.bike_id == id_bike_w_max_dur)\\\n",
    "        .sortBy(lambda trip: trip.start_date)\\\n",
    "        .map(lambda trip: (trip.start_station_name, trip.end_station_name)) "
   ]
  },
  {
   "cell_type": "code",
   "execution_count": 56,
   "id": "e1d23a53",
   "metadata": {},
   "outputs": [
    {
     "data": {
      "text/plain": [
       "[('Post at Kearney', 'San Francisco Caltrain (Townsend at 4th)'),\n",
       " ('San Francisco Caltrain (Townsend at 4th)',\n",
       "  'San Francisco Caltrain 2 (330 Townsend)'),\n",
       " ('San Francisco Caltrain 2 (330 Townsend)', 'Market at Sansome')]"
      ]
     },
     "execution_count": 56,
     "metadata": {},
     "output_type": "execute_result"
    }
   ],
   "source": [
    "query.take(3)"
   ]
  },
  {
   "cell_type": "code",
   "execution_count": 57,
   "id": "3ae10648",
   "metadata": {},
   "outputs": [
    {
     "data": {
      "text/plain": [
       "1328"
      ]
     },
     "execution_count": 57,
     "metadata": {},
     "output_type": "execute_result"
    }
   ],
   "source": [
    "query.count()"
   ]
  },
  {
   "cell_type": "code",
   "execution_count": 38,
   "id": "f2143943",
   "metadata": {},
   "outputs": [],
   "source": [
    "# Выводим всё\n",
    "#query.collect()"
   ]
  },
  {
   "cell_type": "markdown",
   "id": "20b711a3",
   "metadata": {},
   "source": [
    "# 4 Найти количество велосипедов в системе."
   ]
  },
  {
   "cell_type": "code",
   "execution_count": 61,
   "id": "3d3b680f",
   "metadata": {},
   "outputs": [
    {
     "data": {
      "text/plain": [
       "[520, 661, 48, 26, 319]"
      ]
     },
     "execution_count": 61,
     "metadata": {},
     "output_type": "execute_result"
    }
   ],
   "source": [
    "query = trips_objects.map(lambda trip: trip.bike_id)\n",
    "query.take(5)"
   ]
  },
  {
   "cell_type": "code",
   "execution_count": 62,
   "id": "fc61c982",
   "metadata": {},
   "outputs": [
    {
     "data": {
      "text/plain": [
       "669959"
      ]
     },
     "execution_count": 62,
     "metadata": {},
     "output_type": "execute_result"
    }
   ],
   "source": [
    "query.count()"
   ]
  },
  {
   "cell_type": "code",
   "execution_count": 63,
   "id": "2a012e37",
   "metadata": {},
   "outputs": [
    {
     "name": "stdout",
     "output_type": "stream",
     "text": [
      "Количество уникальных велосипедов: 700\n"
     ]
    }
   ],
   "source": [
    "# убирает дубликаты\n",
    "print(\"Количество уникальных велосипедов: %d\" %query.distinct().count())"
   ]
  },
  {
   "cell_type": "markdown",
   "id": "54d78ffe",
   "metadata": {},
   "source": [
    "# 5 Найти пользователей потративших на поездки более 3 часов."
   ]
  },
  {
   "cell_type": "code",
   "execution_count": 55,
   "id": "4cb68dc8",
   "metadata": {},
   "outputs": [],
   "source": [
    "three_hours = 3 * 60 * 60\n",
    "query = trips_objects.filter(lambda trip: trip.duration > three_hours).map(lambda trip: trip.trip_id)"
   ]
  },
  {
   "cell_type": "code",
   "execution_count": 56,
   "id": "95e241c2",
   "metadata": {},
   "outputs": [
    {
     "data": {
      "text/plain": [
       "[4639, 4637, 4528, 4363, 4193]"
      ]
     },
     "execution_count": 56,
     "metadata": {},
     "output_type": "execute_result"
    }
   ],
   "source": [
    "query.take(5)"
   ]
  },
  {
   "cell_type": "code",
   "execution_count": 57,
   "id": "59d3543e",
   "metadata": {},
   "outputs": [
    {
     "data": {
      "text/plain": [
       "8322"
      ]
     },
     "execution_count": 57,
     "metadata": {},
     "output_type": "execute_result"
    }
   ],
   "source": [
    "query.count()"
   ]
  },
  {
   "cell_type": "code",
   "execution_count": 59,
   "id": "05026f30",
   "metadata": {},
   "outputs": [
    {
     "name": "stdout",
     "output_type": "stream",
     "text": [
      "Количество уникальных пользователей: 8322\n"
     ]
    }
   ],
   "source": [
    "print(\"Количество уникальных пользователей: %d\" %query.distinct().count())"
   ]
  }
 ],
 "metadata": {
  "kernelspec": {
   "display_name": "Python 3",
   "language": "python",
   "name": "python3"
  },
  "language_info": {
   "codemirror_mode": {
    "name": "ipython",
    "version": 3
   },
   "file_extension": ".py",
   "mimetype": "text/x-python",
   "name": "python",
   "nbconvert_exporter": "python",
   "pygments_lexer": "ipython3",
   "version": "3.6.9"
  }
 },
 "nbformat": 4,
 "nbformat_minor": 5
}
