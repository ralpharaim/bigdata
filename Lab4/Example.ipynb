{
 "cells": [
  {
   "cell_type": "code",
   "execution_count": 66,
   "id": "9e659a9b",
   "metadata": {},
   "outputs": [],
   "source": [
    "import logging\n",
    "logging.basicConfig()\n",
    "\n",
    "from kazoo.client import KazooClient\n",
    "zk = KazooClient()\n",
    "zk.start()"
   ]
  },
  {
   "cell_type": "code",
   "execution_count": 67,
   "id": "f8798024",
   "metadata": {},
   "outputs": [
    {
     "data": {
      "text/plain": [
       "['zookeeper', 'task1', 'task_2', 'myconfig']"
      ]
     },
     "execution_count": 67,
     "metadata": {},
     "output_type": "execute_result"
    }
   ],
   "source": [
    "zk.get_children(\"/\")"
   ]
  },
  {
   "cell_type": "code",
   "execution_count": 68,
   "id": "dd495f1b",
   "metadata": {},
   "outputs": [
    {
     "data": {
      "text/plain": [
       "(['quota'], [])"
      ]
     },
     "execution_count": 68,
     "metadata": {},
     "output_type": "execute_result"
    }
   ],
   "source": [
    "zk.get_children(\"/zookeeper\"), zk.get_children(\"/zookeeper/quota\")"
   ]
  },
  {
   "cell_type": "code",
   "execution_count": 69,
   "id": "74cefe97",
   "metadata": {},
   "outputs": [
    {
     "data": {
      "text/plain": [
       "'/mynode'"
      ]
     },
     "execution_count": 69,
     "metadata": {},
     "output_type": "execute_result"
    }
   ],
   "source": [
    "zk.delete(path=\"/mynode\", recursive= True)\n",
    "zk.create(path=\"/mynode\", value=b\"first_version\")"
   ]
  },
  {
   "cell_type": "code",
   "execution_count": 70,
   "id": "3f03db6e",
   "metadata": {},
   "outputs": [
    {
     "data": {
      "text/plain": [
       "['mynode', 'zookeeper', 'task1', 'task_2', 'myconfig']"
      ]
     },
     "execution_count": 70,
     "metadata": {},
     "output_type": "execute_result"
    }
   ],
   "source": [
    "zk.get_children(\"/\")"
   ]
  },
  {
   "cell_type": "code",
   "execution_count": 71,
   "id": "21756dfb",
   "metadata": {},
   "outputs": [
    {
     "data": {
      "text/plain": [
       "(b'first_version',\n",
       " ZnodeStat(czxid=4140, mzxid=4140, ctime=1669789161726, mtime=1669789161726, version=0, cversion=0, aversion=0, ephemeralOwner=0, dataLength=13, numChildren=0, pzxid=4140))"
      ]
     },
     "execution_count": 71,
     "metadata": {},
     "output_type": "execute_result"
    }
   ],
   "source": [
    "zk.get('/mynode') "
   ]
  },
  {
   "cell_type": "code",
   "execution_count": 72,
   "id": "3685f251",
   "metadata": {},
   "outputs": [
    {
     "data": {
      "text/plain": [
       "ZnodeStat(czxid=4140, mzxid=4141, ctime=1669789161726, mtime=1669789162603, version=1, cversion=0, aversion=0, ephemeralOwner=0, dataLength=14, numChildren=0, pzxid=4140)"
      ]
     },
     "execution_count": 72,
     "metadata": {},
     "output_type": "execute_result"
    }
   ],
   "source": [
    "zk.set('/mynode', value=b\"second_version\")"
   ]
  },
  {
   "cell_type": "code",
   "execution_count": 73,
   "id": "e42b8e64",
   "metadata": {},
   "outputs": [
    {
     "data": {
      "text/plain": [
       "(b'second_version',\n",
       " ZnodeStat(czxid=4140, mzxid=4141, ctime=1669789161726, mtime=1669789162603, version=1, cversion=0, aversion=0, ephemeralOwner=0, dataLength=14, numChildren=0, pzxid=4140))"
      ]
     },
     "execution_count": 73,
     "metadata": {},
     "output_type": "execute_result"
    }
   ],
   "source": [
    "zk.get('/mynode') "
   ]
  },
  {
   "cell_type": "code",
   "execution_count": 74,
   "id": "389176a3",
   "metadata": {},
   "outputs": [
    {
     "data": {
      "text/plain": [
       "'/mynode/child0000000001'"
      ]
     },
     "execution_count": 74,
     "metadata": {},
     "output_type": "execute_result"
    }
   ],
   "source": [
    "zk.create('/mynode/child', value=b'im_sequential', sequence=True)\n",
    "zk.create('/mynode/child', value=b'me_too', sequence=True)"
   ]
  },
  {
   "cell_type": "code",
   "execution_count": 75,
   "id": "c99791bf",
   "metadata": {},
   "outputs": [
    {
     "data": {
      "text/plain": [
       "['child0000000000', 'child0000000001']"
      ]
     },
     "execution_count": 75,
     "metadata": {},
     "output_type": "execute_result"
    }
   ],
   "source": [
    "zk.get_children('/mynode')"
   ]
  },
  {
   "cell_type": "code",
   "execution_count": 28,
   "id": "778d6719",
   "metadata": {},
   "outputs": [],
   "source": [
    "zk.delete('/mynode', recursive= True)"
   ]
  },
  {
   "cell_type": "markdown",
   "id": "cf8fb8e6",
   "metadata": {},
   "source": [
    "# Эфимерные узлы"
   ]
  },
  {
   "cell_type": "code",
   "execution_count": 17,
   "id": "64697126",
   "metadata": {},
   "outputs": [],
   "source": [
    "zk1, zk2 = KazooClient(), KazooClient()\n",
    "zk1.start()\n",
    "zk2.start()"
   ]
  },
  {
   "cell_type": "code",
   "execution_count": 19,
   "id": "bddda57d",
   "metadata": {},
   "outputs": [
    {
     "data": {
      "text/plain": [
       "'/mygroup'"
      ]
     },
     "execution_count": 19,
     "metadata": {},
     "output_type": "execute_result"
    }
   ],
   "source": [
    "zk.delete('/mygroup', recursive= True)\n",
    "zk.create('/mygroup', b'top_node')"
   ]
  },
  {
   "cell_type": "code",
   "execution_count": 20,
   "id": "afd693bb",
   "metadata": {},
   "outputs": [
    {
     "data": {
      "text/plain": [
       "'/mygroup/bleen'"
      ]
     },
     "execution_count": 20,
     "metadata": {},
     "output_type": "execute_result"
    }
   ],
   "source": [
    "zk1.create('/mygroup/grue', b'im_grue', ephemeral=True)\n",
    "zk2.create('/mygroup/bleen', b'im_bleen', ephemeral=True)"
   ]
  },
  {
   "cell_type": "code",
   "execution_count": 21,
   "id": "725c5037",
   "metadata": {},
   "outputs": [
    {
     "data": {
      "text/plain": [
       "['grue', 'bleen']"
      ]
     },
     "execution_count": 21,
     "metadata": {},
     "output_type": "execute_result"
    }
   ],
   "source": [
    "zk.get_children('/mygroup')"
   ]
  },
  {
   "cell_type": "code",
   "execution_count": 22,
   "id": "ef65f50a",
   "metadata": {},
   "outputs": [
    {
     "data": {
      "text/plain": [
       "(b'im_bleen',\n",
       " ZnodeStat(czxid=4110, mzxid=4110, ctime=1669788542374, mtime=1669788542374, version=0, cversion=0, aversion=0, ephemeralOwner=72059978472882182, dataLength=8, numChildren=0, pzxid=4110))"
      ]
     },
     "execution_count": 22,
     "metadata": {},
     "output_type": "execute_result"
    }
   ],
   "source": [
    " zk1.get('/mygroup/bleen')"
   ]
  },
  {
   "cell_type": "code",
   "execution_count": 23,
   "id": "3e46c717",
   "metadata": {},
   "outputs": [],
   "source": [
    "zk2.stop()"
   ]
  },
  {
   "cell_type": "code",
   "execution_count": 24,
   "id": "eafd7da7",
   "metadata": {},
   "outputs": [
    {
     "data": {
      "text/plain": [
       "['grue']"
      ]
     },
     "execution_count": 24,
     "metadata": {},
     "output_type": "execute_result"
    }
   ],
   "source": [
    "zk.get_children('/mygroup')"
   ]
  },
  {
   "cell_type": "code",
   "execution_count": 25,
   "id": "956f3f27",
   "metadata": {},
   "outputs": [
    {
     "ename": "NoNodeError",
     "evalue": "",
     "output_type": "error",
     "traceback": [
      "\u001b[0;31m---------------------------------------------------------------------------\u001b[0m",
      "\u001b[0;31mNoNodeError\u001b[0m                               Traceback (most recent call last)",
      "\u001b[0;32m/tmp/ipykernel_210/2505671822.py\u001b[0m in \u001b[0;36m<module>\u001b[0;34m\u001b[0m\n\u001b[0;32m----> 1\u001b[0;31m \u001b[0mzk1\u001b[0m\u001b[0;34m.\u001b[0m\u001b[0mget\u001b[0m\u001b[0;34m(\u001b[0m\u001b[0;34m'/mygroup/bleen'\u001b[0m\u001b[0;34m)\u001b[0m\u001b[0;34m\u001b[0m\u001b[0;34m\u001b[0m\u001b[0m\n\u001b[0m",
      "\u001b[0;32m/usr/local/lib/python3.7/dist-packages/kazoo/client.py\u001b[0m in \u001b[0;36mget\u001b[0;34m(self, path, watch)\u001b[0m\n\u001b[1;32m   1163\u001b[0m \u001b[0;34m\u001b[0m\u001b[0m\n\u001b[1;32m   1164\u001b[0m         \"\"\"\n\u001b[0;32m-> 1165\u001b[0;31m         \u001b[0;32mreturn\u001b[0m \u001b[0mself\u001b[0m\u001b[0;34m.\u001b[0m\u001b[0mget_async\u001b[0m\u001b[0;34m(\u001b[0m\u001b[0mpath\u001b[0m\u001b[0;34m,\u001b[0m \u001b[0mwatch\u001b[0m\u001b[0;34m=\u001b[0m\u001b[0mwatch\u001b[0m\u001b[0;34m)\u001b[0m\u001b[0;34m.\u001b[0m\u001b[0mget\u001b[0m\u001b[0;34m(\u001b[0m\u001b[0;34m)\u001b[0m\u001b[0;34m\u001b[0m\u001b[0;34m\u001b[0m\u001b[0m\n\u001b[0m\u001b[1;32m   1166\u001b[0m \u001b[0;34m\u001b[0m\u001b[0m\n\u001b[1;32m   1167\u001b[0m     \u001b[0;32mdef\u001b[0m \u001b[0mget_async\u001b[0m\u001b[0;34m(\u001b[0m\u001b[0mself\u001b[0m\u001b[0;34m,\u001b[0m \u001b[0mpath\u001b[0m\u001b[0;34m,\u001b[0m \u001b[0mwatch\u001b[0m\u001b[0;34m=\u001b[0m\u001b[0;32mNone\u001b[0m\u001b[0;34m)\u001b[0m\u001b[0;34m:\u001b[0m\u001b[0;34m\u001b[0m\u001b[0;34m\u001b[0m\u001b[0m\n",
      "\u001b[0;32m/usr/local/lib/python3.7/dist-packages/kazoo/handlers/utils.py\u001b[0m in \u001b[0;36mget\u001b[0;34m(self, block, timeout)\u001b[0m\n\u001b[1;32m     84\u001b[0m                     \u001b[0;32mif\u001b[0m \u001b[0mself\u001b[0m\u001b[0;34m.\u001b[0m\u001b[0m_exception\u001b[0m \u001b[0;32mis\u001b[0m \u001b[0;32mNone\u001b[0m\u001b[0;34m:\u001b[0m\u001b[0;34m\u001b[0m\u001b[0;34m\u001b[0m\u001b[0m\n\u001b[1;32m     85\u001b[0m                         \u001b[0;32mreturn\u001b[0m \u001b[0mself\u001b[0m\u001b[0;34m.\u001b[0m\u001b[0mvalue\u001b[0m\u001b[0;34m\u001b[0m\u001b[0;34m\u001b[0m\u001b[0m\n\u001b[0;32m---> 86\u001b[0;31m                     \u001b[0;32mraise\u001b[0m \u001b[0mself\u001b[0m\u001b[0;34m.\u001b[0m\u001b[0m_exception\u001b[0m\u001b[0;34m\u001b[0m\u001b[0;34m\u001b[0m\u001b[0m\n\u001b[0m\u001b[1;32m     87\u001b[0m \u001b[0;34m\u001b[0m\u001b[0m\n\u001b[1;32m     88\u001b[0m             \u001b[0;31m# if we get to this point we timeout\u001b[0m\u001b[0;34m\u001b[0m\u001b[0;34m\u001b[0m\u001b[0;34m\u001b[0m\u001b[0m\n",
      "\u001b[0;31mNoNodeError\u001b[0m: "
     ]
    }
   ],
   "source": [
    "zk1.get('/mygroup/bleen')"
   ]
  },
  {
   "cell_type": "code",
   "execution_count": 26,
   "id": "a921a8f8",
   "metadata": {},
   "outputs": [
    {
     "data": {
      "text/plain": [
       "(None, None)"
      ]
     },
     "execution_count": 26,
     "metadata": {},
     "output_type": "execute_result"
    }
   ],
   "source": [
    "zk1.stop(), zk2.stop()"
   ]
  },
  {
   "cell_type": "code",
   "execution_count": 27,
   "id": "08a93d04",
   "metadata": {},
   "outputs": [],
   "source": [
    " zk.delete('/mygroup', recursive=True)"
   ]
  },
  {
   "cell_type": "markdown",
   "id": "098c7de2",
   "metadata": {},
   "source": [
    "# Конфигурация распределённого приложения"
   ]
  },
  {
   "cell_type": "code",
   "execution_count": 49,
   "id": "23d53914",
   "metadata": {},
   "outputs": [
    {
     "data": {
      "text/plain": [
       "'/myconfig'"
      ]
     },
     "execution_count": 49,
     "metadata": {},
     "output_type": "execute_result"
    }
   ],
   "source": [
    "zk.delete('/myconfig', recursive=True)\n",
    "zk.create('/myconfig', b'sheep_count=1')"
   ]
  },
  {
   "cell_type": "code",
   "execution_count": 50,
   "id": "3f24e0fd",
   "metadata": {},
   "outputs": [],
   "source": [
    "zk1 = KazooClient()\n",
    "zk1.start()"
   ]
  },
  {
   "cell_type": "code",
   "execution_count": 51,
   "id": "0b3c3353",
   "metadata": {},
   "outputs": [],
   "source": [
    "def watch_node(state):\n",
    "    print(state)"
   ]
  },
  {
   "cell_type": "code",
   "execution_count": 52,
   "id": "795f3e35",
   "metadata": {},
   "outputs": [
    {
     "data": {
      "text/plain": [
       "(b'sheep_count=1',\n",
       " ZnodeStat(czxid=4135, mzxid=4135, ctime=1669788703449, mtime=1669788703449, version=0, cversion=0, aversion=0, ephemeralOwner=0, dataLength=13, numChildren=0, pzxid=4135))"
      ]
     },
     "execution_count": 52,
     "metadata": {},
     "output_type": "execute_result"
    }
   ],
   "source": [
    "zk1.get('/myconfig', watch=watch_node)"
   ]
  },
  {
   "cell_type": "code",
   "execution_count": 53,
   "id": "a3a929c0",
   "metadata": {},
   "outputs": [
    {
     "name": "stdout",
     "output_type": "stream",
     "text": [
      "WatchedEvent(type='CHANGED', state='CONNECTED', path='/myconfig')\n"
     ]
    },
    {
     "data": {
      "text/plain": [
       "ZnodeStat(czxid=4135, mzxid=4137, ctime=1669788703449, mtime=1669788704239, version=1, cversion=0, aversion=0, ephemeralOwner=0, dataLength=13, numChildren=0, pzxid=4135)"
      ]
     },
     "execution_count": 53,
     "metadata": {},
     "output_type": "execute_result"
    }
   ],
   "source": [
    "zk.set('/myconfig', b'sheep_count=2')"
   ]
  },
  {
   "cell_type": "code",
   "execution_count": 54,
   "id": "cba03e1a",
   "metadata": {},
   "outputs": [
    {
     "data": {
      "text/plain": [
       "ZnodeStat(czxid=4135, mzxid=4138, ctime=1669788703449, mtime=1669788704701, version=2, cversion=0, aversion=0, ephemeralOwner=0, dataLength=13, numChildren=0, pzxid=4135)"
      ]
     },
     "execution_count": 54,
     "metadata": {},
     "output_type": "execute_result"
    }
   ],
   "source": [
    "zk.set('/myconfig', b'sheep_count=3')  # Trigger (watcher) is resetted "
   ]
  },
  {
   "cell_type": "markdown",
   "id": "02460afe",
   "metadata": {},
   "source": [
    "# Мониторим ZooKeeper"
   ]
  },
  {
   "cell_type": "code",
   "execution_count": 58,
   "id": "e1cd6739",
   "metadata": {},
   "outputs": [
    {
     "name": "stdout",
     "output_type": "stream",
     "text": [
      "imok"
     ]
    }
   ],
   "source": [
    "!echo ruok | nc localhost 2181 "
   ]
  },
  {
   "cell_type": "code",
   "execution_count": 59,
   "id": "db22477d",
   "metadata": {},
   "outputs": [
    {
     "name": "stdout",
     "output_type": "stream",
     "text": [
      "Zookeeper version: 3.4.14-4c25d480e66aadd371de8bd2fd8da255ac140bcf, built on 03/06/2019 16:18 GMT\r\n",
      "Clients:\r\n",
      " /127.0.0.1:42818[0](queued=0,recved=1,sent=0)\r\n",
      " /127.0.0.1:42806[1](queued=0,recved=46,sent=48)\r\n",
      " /127.0.0.1:42786[1](queued=0,recved=193,sent=193)\r\n",
      " /127.0.0.1:42804[1](queued=0,recved=60,sent=61)\r\n",
      " /127.0.0.1:42664[1](queued=0,recved=176,sent=182)\r\n",
      " /127.0.0.1:42808[1](queued=0,recved=36,sent=37)\r\n",
      "\r\n",
      "Latency min/avg/max: 0/0/33\r\n",
      "Received: 595\r\n",
      "Sent: 610\r\n",
      "Connections: 6\r\n",
      "Outstanding: 0\r\n",
      "Zxid: 0x102a\r\n",
      "Mode: standalone\r\n",
      "Node count: 15\r\n"
     ]
    }
   ],
   "source": [
    "!echo stat | nc localhost 2181"
   ]
  },
  {
   "cell_type": "code",
   "execution_count": 61,
   "id": "45a304d8",
   "metadata": {},
   "outputs": [
    {
     "name": "stdout",
     "output_type": "stream",
     "text": [
      "clientPort=2181\r\n",
      "dataDir=/data/version-2\r\n",
      "dataLogDir=/datalog/version-2\r\n",
      "tickTime=2000\r\n",
      "maxClientCnxns=60\r\n",
      "minSessionTimeout=4000\r\n",
      "maxSessionTimeout=40000\r\n",
      "serverId=0\r\n"
     ]
    }
   ],
   "source": [
    "!echo conf | nc localhost 2181"
   ]
  },
  {
   "cell_type": "code",
   "execution_count": 62,
   "id": "0d489d81",
   "metadata": {},
   "outputs": [
    {
     "name": "stdout",
     "output_type": "stream",
     "text": [
      " /127.0.0.1:42822[0](queued=0,recved=1,sent=0)\r\n",
      " /127.0.0.1:42806[1](queued=0,recved=64,sent=66,sid=0x100022b2b660008,lop=PING,est=1669788668624,to=10000,lcxid=0x2,lzxid=0x102a,lresp=37112518,llat=0,minlat=0,avglat=0,maxlat=2)\r\n",
      " /127.0.0.1:42786[1](queued=0,recved=210,sent=210,sid=0x100022b2b660004,lop=PING,est=1669788361937,to=10000,lcxid=0x41,lzxid=0x102a,lresp=37111550,llat=0,minlat=0,avglat=0,maxlat=33)\r\n",
      " /127.0.0.1:42804[1](queued=0,recved=77,sent=78,sid=0x100022b2b660007,lop=PING,est=1669788626180,to=10000,lcxid=0x1,lzxid=0x102a,lresp=37110732,llat=1,minlat=0,avglat=0,maxlat=2)\r\n",
      " /127.0.0.1:42664[1](queued=0,recved=194,sent=200,sid=0x100022b2b660000,lop=PING,est=1669788333328,to=10000,lcxid=0x18,lzxid=0x102a,lresp=37111939,llat=0,minlat=0,avglat=0,maxlat=4)\r\n",
      " /127.0.0.1:42808[1](queued=0,recved=54,sent=55,sid=0x100022b2b660009,lop=PING,est=1669788703647,to=10000,lcxid=0x1,lzxid=0x102a,lresp=37111652,llat=1,minlat=0,avglat=0,maxlat=1)\r\n",
      "\r\n"
     ]
    }
   ],
   "source": [
    "!echo cons | nc localhost 2181"
   ]
  },
  {
   "cell_type": "code",
   "execution_count": 63,
   "id": "fce3d9b6",
   "metadata": {},
   "outputs": [
    {
     "name": "stdout",
     "output_type": "stream",
     "text": [
      "Zookeeper version: 3.4.14-4c25d480e66aadd371de8bd2fd8da255ac140bcf, built on 03/06/2019 16:18 GMT\r\n",
      "Clients:\r\n",
      " /127.0.0.1:42824[0](queued=0,recved=1,sent=0)\r\n",
      " /127.0.0.1:42806[1](queued=0,recved=71,sent=73)\r\n",
      " /127.0.0.1:42786[1](queued=0,recved=217,sent=217)\r\n",
      " /127.0.0.1:42804[1](queued=0,recved=84,sent=85)\r\n",
      " /127.0.0.1:42664[1](queued=0,recved=201,sent=207)\r\n",
      " /127.0.0.1:42808[1](queued=0,recved=61,sent=62)\r\n",
      "\r\n",
      "Latency min/avg/max: 0/0/33\r\n",
      "Received: 721\r\n",
      "Sent: 736\r\n",
      "Connections: 6\r\n",
      "Outstanding: 0\r\n",
      "Zxid: 0x102a\r\n",
      "Mode: standalone\r\n",
      "Node count: 15\r\n"
     ]
    }
   ],
   "source": [
    "!echo stat | nc localhost 2181"
   ]
  },
  {
   "cell_type": "code",
   "execution_count": 64,
   "id": "7db84a6b",
   "metadata": {},
   "outputs": [
    {
     "name": "stdout",
     "output_type": "stream",
     "text": [
      "SessionTracker dump:\r\n",
      "Session Sets (5):\r\n",
      "0 expire at Thu Jan 01 10:19:06 UTC 1970:\r\n",
      "0 expire at Thu Jan 01 10:19:08 UTC 1970:\r\n",
      "0 expire at Thu Jan 01 10:19:10 UTC 1970:\r\n",
      "0 expire at Thu Jan 01 10:19:12 UTC 1970:\r\n",
      "5 expire at Thu Jan 01 10:19:14 UTC 1970:\r\n",
      "\t0x100022b2b660004\r\n",
      "\t0x100022b2b660000\r\n",
      "\t0x100022b2b660009\r\n",
      "\t0x100022b2b660007\r\n",
      "\t0x100022b2b660008\r\n",
      "ephemeral nodes dump:\r\n",
      "Sessions with Ephemerals (0):\r\n"
     ]
    }
   ],
   "source": [
    "!echo dump | nc localhost 2181"
   ]
  },
  {
   "cell_type": "code",
   "execution_count": 65,
   "id": "0ee921f0",
   "metadata": {},
   "outputs": [
    {
     "name": "stdout",
     "output_type": "stream",
     "text": [
      "3 connections watching 0 paths\r\n",
      "Total watches:0\r\n"
     ]
    }
   ],
   "source": [
    "!echo wchs | nc localhost 2181"
   ]
  },
  {
   "cell_type": "code",
   "execution_count": null,
   "id": "fb17c13a",
   "metadata": {},
   "outputs": [],
   "source": []
  }
 ],
 "metadata": {
  "kernelspec": {
   "display_name": "Python 3 (ipykernel)",
   "language": "python",
   "name": "python3"
  },
  "language_info": {
   "codemirror_mode": {
    "name": "ipython",
    "version": 3
   },
   "file_extension": ".py",
   "mimetype": "text/x-python",
   "name": "python",
   "nbconvert_exporter": "python",
   "pygments_lexer": "ipython3",
   "version": "3.7.3"
  }
 },
 "nbformat": 4,
 "nbformat_minor": 5
}
