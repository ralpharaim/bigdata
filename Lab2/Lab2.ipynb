{
 "cells": [
  {
   "cell_type": "code",
   "execution_count": 99,
   "id": "88e4cf7b",
   "metadata": {},
   "outputs": [],
   "source": [
    "from datetime import datetime\n",
    "from pyspark.sql import SparkSession\n",
    "from pyspark.sql.functions import col\n",
    "from pyspark.sql.types import StructType, StructField, StringType, DateType\n",
    "from pyspark import SparkContext, SparkConf\n",
    "\n",
    "import os"
   ]
  },
  {
   "cell_type": "code",
   "execution_count": 100,
   "id": "dbe31ae9",
   "metadata": {},
   "outputs": [
    {
     "data": {
      "text/html": [
       "\n",
       "            <div>\n",
       "                <p><b>SparkSession - in-memory</b></p>\n",
       "                \n",
       "        <div>\n",
       "            <p><b>SparkContext</b></p>\n",
       "\n",
       "            <p><a href=\"http://maprdemo.mapr.io:4040\">Spark UI</a></p>\n",
       "\n",
       "            <dl>\n",
       "              <dt>Version</dt>\n",
       "                <dd><code>v3.2.2</code></dd>\n",
       "              <dt>Master</dt>\n",
       "                <dd><code>local[*]</code></dd>\n",
       "              <dt>AppName</dt>\n",
       "                <dd><code>Lab2</code></dd>\n",
       "            </dl>\n",
       "        </div>\n",
       "        \n",
       "            </div>\n",
       "        "
      ],
      "text/plain": [
       "<pyspark.sql.session.SparkSession at 0x7f9455f1a518>"
      ]
     },
     "execution_count": 100,
     "metadata": {},
     "output_type": "execute_result"
    }
   ],
   "source": [
    "spark_session = SparkSession.builder.appName(\"Lab2\").getOrCreate()\n",
    "sc = spark_session._sc\n",
    "spark_session"
   ]
  },
  {
   "cell_type": "code",
   "execution_count": 101,
   "id": "96977dd7",
   "metadata": {},
   "outputs": [
    {
     "name": "stdout",
     "output_type": "stream",
     "text": [
      "name,wikipedia_url\r\n",
      "A# .NET,https://en.wikipedia.org/wiki/A_Sharp_(.NET)\r\n",
      "A# (Axiom),https://en.wikipedia.org/wiki/A_Sharp_(Axiom)\r\n",
      "A-0 System,https://en.wikipedia.org/wiki/A-0_System\r\n"
     ]
    }
   ],
   "source": [
    "!head -n 4 /mnt/data/programming-languages.csv"
   ]
  },
  {
   "cell_type": "code",
   "execution_count": 209,
   "id": "9db91b46",
   "metadata": {},
   "outputs": [
    {
     "data": {
      "text/plain": [
       "[['name', 'wikipedia_url'],\n",
       " ['A# .NET', 'https://en.wikipedia.org/wiki/A_Sharp_(.NET)'],\n",
       " ['A# (Axiom)', 'https://en.wikipedia.org/wiki/A_Sharp_(Axiom)'],\n",
       " ['A-0 System', 'https://en.wikipedia.org/wiki/A-0_System'],\n",
       " ['A+', 'https://en.wikipedia.org/wiki/A%2B_(programming_language)']]"
      ]
     },
     "execution_count": 209,
     "metadata": {},
     "output_type": "execute_result"
    }
   ],
   "source": [
    "prog_langs = sc.textFile(\"/mnt/data/programming-languages.csv\").map(lambda x: x.split(\",\"))\n",
    "prog_langs.take(5)"
   ]
  },
  {
   "cell_type": "code",
   "execution_count": 210,
   "id": "573d86d8",
   "metadata": {},
   "outputs": [
    {
     "data": {
      "text/plain": [
       "['A# .NET', 'A# (Axiom)', 'A-0 System', 'A+']"
      ]
     },
     "execution_count": 210,
     "metadata": {},
     "output_type": "execute_result"
    }
   ],
   "source": [
    "prog_langs_list = prog_langs.map(lambda x: x[0]).collect()\n",
    "prog_langs_list[1:5]"
   ]
  },
  {
   "cell_type": "code",
   "execution_count": 190,
   "id": "b5928459",
   "metadata": {
    "scrolled": true
   },
   "outputs": [
    {
     "data": {
      "text/plain": [
       "Row(_AcceptedAnswerId=7, _AnswerCount=13, _Body=\"<p>I want to use a track-bar to change a form's opacity.</p>\\n\\n<p>This is my code:</p>\\n\\n<pre><code>decimal trans = trackBar1.Value / 5000;\\nthis.Opacity = trans;\\n</code></pre>\\n\\n<p>When I build the application, it gives the following error:</p>\\n\\n<blockquote>\\n  <p>Cannot implicitly convert type <code>'decimal'</code> to <code>'double'</code></p>\\n</blockquote>\\n\\n<p>I tried using <code>trans</code> and <code>double</code> but then the control doesn't work. This code worked fine in a past VB.NET project.</p>\\n\", _ClosedDate=None, _CommentCount=2, _CommunityOwnedDate=datetime.datetime(2012, 10, 31, 16, 42, 47, 213000), _CreationDate=datetime.datetime(2008, 7, 31, 21, 42, 52, 667000), _FavoriteCount=48, _Id=4, _LastActivityDate=datetime.datetime(2019, 7, 19, 1, 39, 54, 173000), _LastEditDate=datetime.datetime(2019, 7, 19, 1, 39, 54, 173000), _LastEditorDisplayName='Rich B', _LastEditorUserId=3641067, _OwnerDisplayName=None, _OwnerUserId=8, _ParentId=None, _PostTypeId=1, _Score=630, _Tags='<c#><floating-point><type-conversion><double><decimal>', _Title='Convert Decimal to Double?', _ViewCount=42817)"
      ]
     },
     "execution_count": 190,
     "metadata": {},
     "output_type": "execute_result"
    }
   ],
   "source": [
    "os.environ['PYSPARK_SUBMIT_ARGS'] = '--packages com.databricks:spark-xml_2.12:0.15.0 pyspark-shell'\n",
    "\n",
    "posts_sample = spark_session.read.format(\"xml\").options(rowTag=\"row\").load('/mnt/data/posts_sample.xml').rdd\n",
    "posts_sample.first()"
   ]
  },
  {
   "cell_type": "code",
   "execution_count": 191,
   "id": "22511af9",
   "metadata": {},
   "outputs": [],
   "source": [
    "def CheckDateRange(row):\n",
    "    left_date = datetime(year=2010, month=1, day=1)\n",
    "    right_date = datetime(year=2019, month=12, day=31)\n",
    "    return row._CreationDate > left_date and row._CreationDate < right_date\n",
    "\n",
    "def FindTag(row):\n",
    "    tag = None\n",
    "    for lang in prog_langs_list:\n",
    "        if '<' + lang.lower() + '>' in row._Tags.lower():\n",
    "            tag = lang\n",
    "            break\n",
    "    if tag is None:\n",
    "        return None\n",
    "    return (row._Id, row._CreationDate.year, tag)"
   ]
  },
  {
   "cell_type": "code",
   "execution_count": 192,
   "id": "b392b8c6",
   "metadata": {},
   "outputs": [
    {
     "name": "stdout",
     "output_type": "stream",
     "text": [
      "+----+------------+------------+\n",
      "|Year|Language    |CountOfPosts|\n",
      "+----+------------+------------+\n",
      "|2010|Python      |25          |\n",
      "|2010|JavaScript  |44          |\n",
      "|2010|R           |3           |\n",
      "|2011|Objective-C |33          |\n",
      "|2011|JavaScript  |82          |\n",
      "|2013|JavaScript  |196         |\n",
      "|2013|Python      |87          |\n",
      "|2013|ActionScript|1           |\n",
      "|2014|JavaScript  |235         |\n",
      "|2014|Python      |103         |\n",
      "+----+------------+------------+\n",
      "only showing top 10 rows\n",
      "\n"
     ]
    }
   ],
   "source": [
    "langs_2010_2020 = posts_sample.filter(lambda row: row._Tags is not None and CheckDateRange(row))\\\n",
    "                        .map(FindTag).filter(lambda row: row is not None)\\\n",
    "                        .keyBy(lambda row: (row[1], row[2]))\\\n",
    "                        .aggregateByKey(0,lambda acc, value: acc + 1,lambda acc1, acc2: acc1 + acc2)\\\n",
    "                        .map(lambda row: (row[0][0], row[0][1], row[1])).toDF(('Year','Language','CountOfPosts'))\n",
    "langs_2010_2020.show(10,False)"
   ]
  },
  {
   "cell_type": "code",
   "execution_count": 193,
   "id": "6fd6dc1e",
   "metadata": {},
   "outputs": [],
   "source": [
    "langs_2010_2020.write.mode('overwrite').parquet(\"parquets/langs_2010_2020\")"
   ]
  },
  {
   "cell_type": "code",
   "execution_count": 194,
   "id": "6d1cba3b",
   "metadata": {},
   "outputs": [
    {
     "name": "stdout",
     "output_type": "stream",
     "text": [
      "_____________\n",
      "|    2010   |\n",
      "+-----------+\n",
      "|   Language|\n",
      "+-----------+\n",
      "|       Java|\n",
      "| JavaScript|\n",
      "|        PHP|\n",
      "|     Python|\n",
      "|Objective-C|\n",
      "|          C|\n",
      "|       Ruby|\n",
      "|     Delphi|\n",
      "|       Bash|\n",
      "|          R|\n",
      "+-----------+\n",
      "\n",
      "_____________\n",
      "|    2011   |\n",
      "+-----------+\n",
      "|   Language|\n",
      "+-----------+\n",
      "|        PHP|\n",
      "|       Java|\n",
      "| JavaScript|\n",
      "|     Python|\n",
      "|Objective-C|\n",
      "|          C|\n",
      "|       Ruby|\n",
      "|       Perl|\n",
      "|     Delphi|\n",
      "|       Bash|\n",
      "+-----------+\n",
      "\n",
      "_____________\n",
      "|    2012   |\n",
      "+-----------+\n",
      "|   Language|\n",
      "+-----------+\n",
      "|        PHP|\n",
      "| JavaScript|\n",
      "|       Java|\n",
      "|     Python|\n",
      "|Objective-C|\n",
      "|          C|\n",
      "|       Ruby|\n",
      "|          R|\n",
      "|       Bash|\n",
      "|      Scala|\n",
      "+-----------+\n",
      "\n",
      "_____________\n",
      "|    2013   |\n",
      "+-----------+\n",
      "|   Language|\n",
      "+-----------+\n",
      "| JavaScript|\n",
      "|       Java|\n",
      "|        PHP|\n",
      "|     Python|\n",
      "|Objective-C|\n",
      "|          C|\n",
      "|       Ruby|\n",
      "|          R|\n",
      "|       Bash|\n",
      "|      Scala|\n",
      "+-----------+\n",
      "\n",
      "_____________\n",
      "|    2014   |\n",
      "+-----------+\n",
      "|   Language|\n",
      "+-----------+\n",
      "| JavaScript|\n",
      "|       Java|\n",
      "|        PHP|\n",
      "|     Python|\n",
      "|          C|\n",
      "|Objective-C|\n",
      "|          R|\n",
      "|       Ruby|\n",
      "|     MATLAB|\n",
      "|       Bash|\n",
      "+-----------+\n",
      "\n",
      "_____________\n",
      "|    2015   |\n",
      "+-----------+\n",
      "|   Language|\n",
      "+-----------+\n",
      "| JavaScript|\n",
      "|       Java|\n",
      "|        PHP|\n",
      "|     Python|\n",
      "|          R|\n",
      "|          C|\n",
      "|Objective-C|\n",
      "|       Ruby|\n",
      "|     MATLAB|\n",
      "|      Scala|\n",
      "+-----------+\n",
      "\n",
      "_____________\n",
      "|    2016   |\n",
      "+----------+\n",
      "|  Language|\n",
      "+----------+\n",
      "|JavaScript|\n",
      "|      Java|\n",
      "|    Python|\n",
      "|       PHP|\n",
      "|         R|\n",
      "|         C|\n",
      "|      Ruby|\n",
      "|     Scala|\n",
      "|      Bash|\n",
      "|    MATLAB|\n",
      "+----------+\n",
      "\n",
      "_____________\n",
      "|    2017   |\n",
      "+-----------+\n",
      "|   Language|\n",
      "+-----------+\n",
      "| JavaScript|\n",
      "|       Java|\n",
      "|     Python|\n",
      "|        PHP|\n",
      "|          R|\n",
      "|          C|\n",
      "|Objective-C|\n",
      "|       Ruby|\n",
      "| PowerShell|\n",
      "| TypeScript|\n",
      "+-----------+\n",
      "\n",
      "_____________\n",
      "|    2018   |\n",
      "+----------+\n",
      "|  Language|\n",
      "+----------+\n",
      "|    Python|\n",
      "|JavaScript|\n",
      "|      Java|\n",
      "|       PHP|\n",
      "|         R|\n",
      "|         C|\n",
      "|     Scala|\n",
      "|TypeScript|\n",
      "|PowerShell|\n",
      "|      Bash|\n",
      "+----------+\n",
      "\n",
      "_____________\n",
      "|    2019   |\n",
      "+----------+\n",
      "|  Language|\n",
      "+----------+\n",
      "|    Python|\n",
      "|JavaScript|\n",
      "|      Java|\n",
      "|       PHP|\n",
      "|         R|\n",
      "|         C|\n",
      "|        Go|\n",
      "|      Dart|\n",
      "|    MATLAB|\n",
      "|      Bash|\n",
      "+----------+\n",
      "\n"
     ]
    }
   ],
   "source": [
    "folder = \"parquets/top_langs_2010_2020\"\n",
    "os.makedirs(folder_save_name, exist_ok=True)\n",
    "\n",
    "parquetFile = spark_session.read.parquet(\"parquets/langs_2010_2020\")\n",
    "parquetFile.createOrReplaceTempView(\"parquetFile\")\n",
    "for y in range(2010, 2020):\n",
    "    print('_____________')\n",
    "    print('|   ', y, \"  |\")\n",
    "    top_10 = spark_session.sql(\n",
    "        f\"select Language from parquetFile where Year = {y} order by CountOfPosts desc limit 10 \"\n",
    "    )\n",
    "    top_10.write.mode('overwrite').parquet(f\"{folder}/top_10_langs_{y}\")\n",
    "    top_10.show()\n",
    "    "
   ]
  },
  {
   "cell_type": "code",
   "execution_count": null,
   "id": "4c2cb965",
   "metadata": {},
   "outputs": [],
   "source": []
  }
 ],
 "metadata": {
  "kernelspec": {
   "display_name": "Python 3",
   "language": "python",
   "name": "python3"
  },
  "language_info": {
   "codemirror_mode": {
    "name": "ipython",
    "version": 3
   },
   "file_extension": ".py",
   "mimetype": "text/x-python",
   "name": "python",
   "nbconvert_exporter": "python",
   "pygments_lexer": "ipython3",
   "version": "3.6.9"
  }
 },
 "nbformat": 4,
 "nbformat_minor": 5
}
